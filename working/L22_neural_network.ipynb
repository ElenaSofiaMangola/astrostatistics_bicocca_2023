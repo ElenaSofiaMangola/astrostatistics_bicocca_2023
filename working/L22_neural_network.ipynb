{
 "cells": [
  {
   "cell_type": "code",
   "execution_count": 41,
   "id": "2fc9b7e4",
   "metadata": {},
   "outputs": [],
   "source": [
    "import tqdm\n",
    "import numpy  as np\n",
    "import pandas as pd\n",
    "import tensorflow as tf\n",
    "from sklearn.metrics import accuracy_score, precision_score, recall_score\n",
    "from matplotlib import pyplot as plt\n",
    "from tensorflow import keras\n",
    "from keras      import layers,models\n",
    "from sklearn.metrics import roc_curve\n",
    "from tabulate        import tabulate"
   ]
  },
  {
   "cell_type": "markdown",
   "id": "103a8607-399e-451f-8054-bb17d34ad4ab",
   "metadata": {},
   "source": [
    "## Time to get your hands dirty. Galaxies vs quasars with neural networks.\n",
    "\n",
    "Let's go back to our galaxy vs quasar data we've used in a previous exercise. \n",
    "\n",
    "1. Read in SDSS galaxy color data from `solutions/galaxyquasar.csv`. Create arrays for the $(u-g)$, $(g-r)$, $(r-i)$, and $(i-z)$ colors. Also create an array with the class labels where galaxy=$0$ and quasar=$1$. "
   ]
  },
  {
   "cell_type": "code",
   "execution_count": 2,
   "id": "ed180649",
   "metadata": {},
   "outputs": [],
   "source": [
    "data = pd.read_csv(\"galaxyquasar.csv\")"
   ]
  },
  {
   "cell_type": "code",
   "execution_count": 3,
   "id": "2a32028c",
   "metadata": {},
   "outputs": [
    {
     "data": {
      "text/html": [
       "<div>\n",
       "<style scoped>\n",
       "    .dataframe tbody tr th:only-of-type {\n",
       "        vertical-align: middle;\n",
       "    }\n",
       "\n",
       "    .dataframe tbody tr th {\n",
       "        vertical-align: top;\n",
       "    }\n",
       "\n",
       "    .dataframe thead th {\n",
       "        text-align: right;\n",
       "    }\n",
       "</style>\n",
       "<table border=\"1\" class=\"dataframe\">\n",
       "  <thead>\n",
       "    <tr style=\"text-align: right;\">\n",
       "      <th></th>\n",
       "      <th>u</th>\n",
       "      <th>g</th>\n",
       "      <th>r</th>\n",
       "      <th>i</th>\n",
       "      <th>z</th>\n",
       "      <th>class</th>\n",
       "      <th>z1</th>\n",
       "      <th>zerr</th>\n",
       "    </tr>\n",
       "  </thead>\n",
       "  <tbody>\n",
       "    <tr>\n",
       "      <th>0</th>\n",
       "      <td>18.97213</td>\n",
       "      <td>18.53676</td>\n",
       "      <td>18.58280</td>\n",
       "      <td>18.34936</td>\n",
       "      <td>18.29215</td>\n",
       "      <td>QSO</td>\n",
       "      <td>0.522819</td>\n",
       "      <td>0.000155</td>\n",
       "    </tr>\n",
       "    <tr>\n",
       "      <th>1</th>\n",
       "      <td>19.24592</td>\n",
       "      <td>17.47646</td>\n",
       "      <td>16.47817</td>\n",
       "      <td>16.04472</td>\n",
       "      <td>15.68851</td>\n",
       "      <td>GALAXY</td>\n",
       "      <td>0.122846</td>\n",
       "      <td>0.000028</td>\n",
       "    </tr>\n",
       "    <tr>\n",
       "      <th>2</th>\n",
       "      <td>19.43536</td>\n",
       "      <td>17.70268</td>\n",
       "      <td>16.91565</td>\n",
       "      <td>16.58327</td>\n",
       "      <td>16.39128</td>\n",
       "      <td>GALAXY</td>\n",
       "      <td>0.000000</td>\n",
       "      <td>0.000000</td>\n",
       "    </tr>\n",
       "    <tr>\n",
       "      <th>3</th>\n",
       "      <td>19.31626</td>\n",
       "      <td>18.18312</td>\n",
       "      <td>17.39591</td>\n",
       "      <td>16.94549</td>\n",
       "      <td>16.65395</td>\n",
       "      <td>GALAXY</td>\n",
       "      <td>0.147435</td>\n",
       "      <td>0.000009</td>\n",
       "    </tr>\n",
       "    <tr>\n",
       "      <th>4</th>\n",
       "      <td>19.28828</td>\n",
       "      <td>19.11188</td>\n",
       "      <td>18.88937</td>\n",
       "      <td>18.80013</td>\n",
       "      <td>18.49183</td>\n",
       "      <td>QSO</td>\n",
       "      <td>2.011455</td>\n",
       "      <td>0.000631</td>\n",
       "    </tr>\n",
       "    <tr>\n",
       "      <th>...</th>\n",
       "      <td>...</td>\n",
       "      <td>...</td>\n",
       "      <td>...</td>\n",
       "      <td>...</td>\n",
       "      <td>...</td>\n",
       "      <td>...</td>\n",
       "      <td>...</td>\n",
       "      <td>...</td>\n",
       "    </tr>\n",
       "    <tr>\n",
       "      <th>49995</th>\n",
       "      <td>19.37295</td>\n",
       "      <td>18.12382</td>\n",
       "      <td>17.39886</td>\n",
       "      <td>16.98503</td>\n",
       "      <td>16.70585</td>\n",
       "      <td>GALAXY</td>\n",
       "      <td>0.113016</td>\n",
       "      <td>0.000011</td>\n",
       "    </tr>\n",
       "    <tr>\n",
       "      <th>49996</th>\n",
       "      <td>18.52021</td>\n",
       "      <td>16.88262</td>\n",
       "      <td>16.03280</td>\n",
       "      <td>15.56884</td>\n",
       "      <td>15.22454</td>\n",
       "      <td>GALAXY</td>\n",
       "      <td>0.085063</td>\n",
       "      <td>0.000014</td>\n",
       "    </tr>\n",
       "    <tr>\n",
       "      <th>49997</th>\n",
       "      <td>18.62718</td>\n",
       "      <td>17.30876</td>\n",
       "      <td>16.87371</td>\n",
       "      <td>16.62399</td>\n",
       "      <td>16.42296</td>\n",
       "      <td>GALAXY</td>\n",
       "      <td>0.054429</td>\n",
       "      <td>0.000008</td>\n",
       "    </tr>\n",
       "    <tr>\n",
       "      <th>49998</th>\n",
       "      <td>19.55140</td>\n",
       "      <td>18.27711</td>\n",
       "      <td>17.62101</td>\n",
       "      <td>17.21947</td>\n",
       "      <td>17.03347</td>\n",
       "      <td>GALAXY</td>\n",
       "      <td>0.112571</td>\n",
       "      <td>0.000009</td>\n",
       "    </tr>\n",
       "    <tr>\n",
       "      <th>49999</th>\n",
       "      <td>18.80772</td>\n",
       "      <td>17.75751</td>\n",
       "      <td>17.40500</td>\n",
       "      <td>17.21650</td>\n",
       "      <td>17.12295</td>\n",
       "      <td>GALAXY</td>\n",
       "      <td>0.043652</td>\n",
       "      <td>0.000007</td>\n",
       "    </tr>\n",
       "  </tbody>\n",
       "</table>\n",
       "<p>50000 rows × 8 columns</p>\n",
       "</div>"
      ],
      "text/plain": [
       "              u         g         r         i         z   class        z1  \\\n",
       "0      18.97213  18.53676  18.58280  18.34936  18.29215     QSO  0.522819   \n",
       "1      19.24592  17.47646  16.47817  16.04472  15.68851  GALAXY  0.122846   \n",
       "2      19.43536  17.70268  16.91565  16.58327  16.39128  GALAXY  0.000000   \n",
       "3      19.31626  18.18312  17.39591  16.94549  16.65395  GALAXY  0.147435   \n",
       "4      19.28828  19.11188  18.88937  18.80013  18.49183     QSO  2.011455   \n",
       "...         ...       ...       ...       ...       ...     ...       ...   \n",
       "49995  19.37295  18.12382  17.39886  16.98503  16.70585  GALAXY  0.113016   \n",
       "49996  18.52021  16.88262  16.03280  15.56884  15.22454  GALAXY  0.085063   \n",
       "49997  18.62718  17.30876  16.87371  16.62399  16.42296  GALAXY  0.054429   \n",
       "49998  19.55140  18.27711  17.62101  17.21947  17.03347  GALAXY  0.112571   \n",
       "49999  18.80772  17.75751  17.40500  17.21650  17.12295  GALAXY  0.043652   \n",
       "\n",
       "           zerr  \n",
       "0      0.000155  \n",
       "1      0.000028  \n",
       "2      0.000000  \n",
       "3      0.000009  \n",
       "4      0.000631  \n",
       "...         ...  \n",
       "49995  0.000011  \n",
       "49996  0.000014  \n",
       "49997  0.000008  \n",
       "49998  0.000009  \n",
       "49999  0.000007  \n",
       "\n",
       "[50000 rows x 8 columns]"
      ]
     },
     "execution_count": 3,
     "metadata": {},
     "output_type": "execute_result"
    }
   ],
   "source": [
    "data"
   ]
  },
  {
   "cell_type": "code",
   "execution_count": 4,
   "id": "0b2f9d66-4333-46a3-b619-5b1a2404d64f",
   "metadata": {},
   "outputs": [],
   "source": [
    "u_g = np.array(data['u'] - data['g'])\n",
    "g_r = np.array(data['g'] - data['r'])\n",
    "r_i = np.array(data['r'] - data['i'])\n",
    "i_z = np.array(data['i'] - data['z'])\n",
    "\n",
    "# 1 = quasar 0 = galaxy\n",
    "labels  = np.array(data['class']=='QSO', dtype='int')"
   ]
  },
  {
   "cell_type": "markdown",
   "id": "6096e86d-3b69-4554-9258-f8347c0d0535",
   "metadata": {},
   "source": [
    "2. Now we're going to fit a neural network classifier. First, scale your data appropriately and do a 30% train/test split."
   ]
  },
  {
   "cell_type": "code",
   "execution_count": 5,
   "id": "dce8140d",
   "metadata": {},
   "outputs": [],
   "source": [
    "# normalize to zero mean and unit variance for easier training\n",
    "colors = np.zeros((len(data), 4), dtype = np.float32)\n",
    "\n",
    "colors[:, 0] = (u_g - u_g.mean()) / u_g.std()\n",
    "colors[:, 1] = (g_r - g_r.mean()) / g_r.std()\n",
    "colors[:, 2] = (r_i - r_i.mean()) / r_i.std()\n",
    "colors[:, 3] = (i_z - i_z.mean()) / i_z.std()"
   ]
  },
  {
   "cell_type": "markdown",
   "id": "9af9d6f4-e2d3-4c09-add8-d9e3c7bfef48",
   "metadata": {},
   "source": [
    "Unlike sklearn, tensorflow doesn't have a build-in splitting function, so I must create it:"
   ]
  },
  {
   "cell_type": "code",
   "execution_count": 6,
   "id": "e3ec06f7-fc71-49f9-bd12-b57c11da5b54",
   "metadata": {},
   "outputs": [
    {
     "name": "stderr",
     "output_type": "stream",
     "text": [
      "2024-09-10 01:02:46.650276: I external/local_xla/xla/stream_executor/cuda/cuda_executor.cc:887] could not open file to read NUMA node: /sys/bus/pci/devices/0000:06:00.0/numa_node\n",
      "Your kernel may have been built without NUMA support.\n",
      "2024-09-10 01:02:47.061454: W tensorflow/core/common_runtime/gpu/gpu_device.cc:2256] Cannot dlopen some GPU libraries. Please make sure the missing libraries mentioned above are installed properly if you would like to use GPU. Follow the guide at https://www.tensorflow.org/install/gpu for how to download and setup the required libraries for your platform.\n",
      "Skipping registering GPU devices...\n"
     ]
    }
   ],
   "source": [
    "# Create the dataset with tensorflow\n",
    "dataset = tf.data.Dataset.from_tensor_slices((colors, labels))"
   ]
  },
  {
   "cell_type": "code",
   "execution_count": 7,
   "id": "d4fcfb14-046f-41eb-bd8d-83fab465ec44",
   "metadata": {},
   "outputs": [],
   "source": [
    "# do a 30% test 70% train split\n",
    "dataset_size = dataset.cardinality().numpy()\n",
    "\n",
    "train_ratio = 0.7\n",
    "train_size  = int(train_ratio * dataset_size)\n",
    "test_size   = int(dataset_size - train_size)\n",
    "\n",
    "# Split the dataset into train and test\n",
    "train = dataset.take(train_size)\n",
    "test  = dataset.skip(train_size)"
   ]
  },
  {
   "cell_type": "markdown",
   "id": "8fb361ea-c253-45df-b8d6-e9ec8231e94a",
   "metadata": {},
   "source": [
    "3. Now train the classifier. Use one the package among those we've seen. These include Tensorflow via keras, pytorch, and the [multilayer perceptron classifier](sklearn.neural_network.MLPClassifier) implemented in scikit-learn. My solution uses the latter, but this is an opportunity to pick the one you're most interested in learning. \n",
    "\n",
    "3. Start from a network architecture with a single hidden layer with 5 neurons, using the `adam` solver, the `relu` activation function, and a learninig rate of `0.001`. Plot the resulting ROC curve. "
   ]
  },
  {
   "cell_type": "code",
   "execution_count": 8,
   "id": "14445eee-9b0a-470a-8395-6e890bb78b64",
   "metadata": {},
   "outputs": [],
   "source": [
    "def dense_layer(x, num_neurons):\n",
    "    x = layers.Dense(num_neurons, activation='relu')(x)\n",
    "    return x\n",
    "\n",
    "def simple_model(l:int, num_neurons:int):\n",
    "    # the input is (height, width, channels)\n",
    "    inputs = layers.Input(shape=(l,))\n",
    "    # 5 is the number of neuron in the Dense layer, as specified\n",
    "    # keras only needs to know the number of features, in this case: 4\n",
    "    x       = dense_layer(inputs, num_neurons)\n",
    "    # now I want to obtain a probability for a class\n",
    "    # so I output a single neuron with a dense layer\n",
    "    # the sigmoid activation function gives a value between 0 and 1, so a probability\n",
    "    # sigmoid(x) = 1 / (1 + exp(-1))\n",
    "    outputs = layers.Dense(1, activation='sigmoid')(x)\n",
    "    model   = tf.keras.Model(inputs, outputs, name='simple_model')\n",
    "\n",
    "    return model"
   ]
  },
  {
   "cell_type": "code",
   "execution_count": 9,
   "id": "57009825-352d-4f8b-b67e-73dc76d75cbc",
   "metadata": {},
   "outputs": [],
   "source": [
    "model = simple_model(l=4, num_neurons=5)"
   ]
  },
  {
   "cell_type": "code",
   "execution_count": 10,
   "id": "5d6d562e-a680-45e9-8d2f-960184303754",
   "metadata": {},
   "outputs": [],
   "source": [
    "model.compile(optimizer=tf.keras.optimizers.Adam(learning_rate=0.001),\n",
    "              loss='binary_crossentropy',\n",
    "              metrics=['accuracy'])"
   ]
  },
  {
   "cell_type": "code",
   "execution_count": 11,
   "id": "cc6767e7-1eb2-42aa-a7b8-a5ca18d0a49f",
   "metadata": {},
   "outputs": [],
   "source": [
    "# BATCH size refers to the number of training examples utilized in one iteration (to update the weights)\n",
    "batch_size = 64\n",
    "\n",
    "# when shuffling we do not take the entire dataset, but only a part of it of the size of the BUFFER\n",
    "# when we pick an example to use in the batch we take it from the buffer,\n",
    "# the size is fixed, so it is immediately filled with another element from the dataset\n",
    "# it's to introduce more randomness\n",
    "buffer_size = 1000\n",
    "\n",
    "# STEPS are to ensure that we iterate through the entire training dataset in each epoch\n",
    "steps_per_epochs = train_size // batch_size\n",
    "# NB: an epoch is one complete pass through the entire training dataset during the training of a neural network"
   ]
  },
  {
   "cell_type": "code",
   "execution_count": 12,
   "id": "826fa6f6-95bc-4119-b547-595d3d152fd6",
   "metadata": {},
   "outputs": [],
   "source": [
    "train_batches = (\n",
    "    train\n",
    "    # Caching the dataset after the first epoch.\n",
    "    # This can speed up data loading in subsequent epochs by keeping the data in memory or on disk\n",
    "    .cache()\n",
    "    # Shuffling the dataset to mantain randomness\n",
    "    .shuffle(buffer_size)\n",
    "    # Create batch of the shuffled data\n",
    "    .batch(batch_size)\n",
    "    # Repeating the dataset indefinitely to ensure the model sees the entire dataset in each epoch\n",
    "    .repeat()\n",
    "    # Prefetching data to overlap the data loading and model training\n",
    "    .prefetch(buffer_size=tf.data.AUTOTUNE))\n",
    "\n",
    "# Create the batches for the tests and validation\n",
    "# I want to further divide my dataset because I want to leave out a test subu-dataset to check the performance of the model later\n",
    "validation_ratio = 0.5\n",
    "validation_size  = int(test_size * validation_ratio)\n",
    "\n",
    "validation_batches = test.take(validation_size).batch(batch_size)\n",
    "\n",
    "test = test.skip(validation_size)"
   ]
  },
  {
   "cell_type": "code",
   "execution_count": 13,
   "id": "5f9fe3ee-ec03-4da5-a0cd-85744798f659",
   "metadata": {},
   "outputs": [
    {
     "name": "stdout",
     "output_type": "stream",
     "text": [
      "Epoch 1/50\n",
      "546/546 [==============================] - 3s 4ms/step - loss: 0.4226 - accuracy: 0.8487 - val_loss: 0.2527 - val_accuracy: 0.9361\n",
      "Epoch 2/50\n",
      "546/546 [==============================] - 1s 3ms/step - loss: 0.1719 - accuracy: 0.9697 - val_loss: 0.1190 - val_accuracy: 0.9786\n",
      "Epoch 3/50\n",
      "546/546 [==============================] - 2s 3ms/step - loss: 0.1064 - accuracy: 0.9796 - val_loss: 0.0853 - val_accuracy: 0.9796\n",
      "Epoch 4/50\n",
      "546/546 [==============================] - 2s 3ms/step - loss: 0.0886 - accuracy: 0.9809 - val_loss: 0.0738 - val_accuracy: 0.9800\n",
      "Epoch 5/50\n",
      "546/546 [==============================] - 1s 3ms/step - loss: 0.0816 - accuracy: 0.9816 - val_loss: 0.0688 - val_accuracy: 0.9800\n",
      "Epoch 6/50\n",
      "546/546 [==============================] - 2s 3ms/step - loss: 0.0781 - accuracy: 0.9817 - val_loss: 0.0668 - val_accuracy: 0.9813\n",
      "Epoch 7/50\n",
      "546/546 [==============================] - 1s 3ms/step - loss: 0.0765 - accuracy: 0.9821 - val_loss: 0.0656 - val_accuracy: 0.9813\n",
      "Epoch 8/50\n",
      "546/546 [==============================] - 2s 3ms/step - loss: 0.0749 - accuracy: 0.9820 - val_loss: 0.0644 - val_accuracy: 0.9823\n",
      "Epoch 9/50\n",
      "546/546 [==============================] - 1s 2ms/step - loss: 0.0749 - accuracy: 0.9819 - val_loss: 0.0637 - val_accuracy: 0.9817\n",
      "Epoch 10/50\n",
      "546/546 [==============================] - 2s 3ms/step - loss: 0.0727 - accuracy: 0.9823 - val_loss: 0.0634 - val_accuracy: 0.9820\n",
      "Epoch 11/50\n",
      "546/546 [==============================] - 2s 3ms/step - loss: 0.0734 - accuracy: 0.9823 - val_loss: 0.0628 - val_accuracy: 0.9820\n",
      "Epoch 12/50\n",
      "546/546 [==============================] - 2s 3ms/step - loss: 0.0726 - accuracy: 0.9823 - val_loss: 0.0627 - val_accuracy: 0.9820\n",
      "Epoch 13/50\n",
      "546/546 [==============================] - 1s 3ms/step - loss: 0.0722 - accuracy: 0.9824 - val_loss: 0.0625 - val_accuracy: 0.9823\n",
      "Epoch 14/50\n",
      "546/546 [==============================] - 1s 2ms/step - loss: 0.0720 - accuracy: 0.9823 - val_loss: 0.0621 - val_accuracy: 0.9823\n",
      "Epoch 15/50\n",
      "546/546 [==============================] - 1s 3ms/step - loss: 0.0716 - accuracy: 0.9823 - val_loss: 0.0622 - val_accuracy: 0.9823\n",
      "Epoch 16/50\n",
      "546/546 [==============================] - 1s 2ms/step - loss: 0.0711 - accuracy: 0.9827 - val_loss: 0.0624 - val_accuracy: 0.9823\n",
      "Epoch 17/50\n",
      "546/546 [==============================] - 1s 3ms/step - loss: 0.0711 - accuracy: 0.9824 - val_loss: 0.0624 - val_accuracy: 0.9827\n",
      "Epoch 18/50\n",
      "546/546 [==============================] - 1s 3ms/step - loss: 0.0710 - accuracy: 0.9824 - val_loss: 0.0627 - val_accuracy: 0.9834\n",
      "Epoch 19/50\n",
      "546/546 [==============================] - 2s 3ms/step - loss: 0.0701 - accuracy: 0.9826 - val_loss: 0.0626 - val_accuracy: 0.9830\n",
      "Epoch 20/50\n",
      "546/546 [==============================] - 1s 3ms/step - loss: 0.0699 - accuracy: 0.9822 - val_loss: 0.0623 - val_accuracy: 0.9827\n",
      "Epoch 21/50\n",
      "546/546 [==============================] - 1s 2ms/step - loss: 0.0690 - accuracy: 0.9827 - val_loss: 0.0621 - val_accuracy: 0.9834\n",
      "Epoch 22/50\n",
      "546/546 [==============================] - 1s 3ms/step - loss: 0.0696 - accuracy: 0.9826 - val_loss: 0.0620 - val_accuracy: 0.9834\n",
      "Epoch 23/50\n",
      "546/546 [==============================] - 2s 3ms/step - loss: 0.0692 - accuracy: 0.9826 - val_loss: 0.0621 - val_accuracy: 0.9830\n",
      "Epoch 24/50\n",
      "546/546 [==============================] - 2s 3ms/step - loss: 0.0693 - accuracy: 0.9825 - val_loss: 0.0617 - val_accuracy: 0.9837\n",
      "Epoch 25/50\n",
      "546/546 [==============================] - 1s 2ms/step - loss: 0.0688 - accuracy: 0.9827 - val_loss: 0.0616 - val_accuracy: 0.9840\n",
      "Epoch 26/50\n",
      "546/546 [==============================] - 1s 2ms/step - loss: 0.0691 - accuracy: 0.9826 - val_loss: 0.0613 - val_accuracy: 0.9840\n",
      "Epoch 27/50\n",
      "546/546 [==============================] - 1s 2ms/step - loss: 0.0685 - accuracy: 0.9826 - val_loss: 0.0614 - val_accuracy: 0.9840\n",
      "Epoch 28/50\n",
      "546/546 [==============================] - 1s 2ms/step - loss: 0.0684 - accuracy: 0.9826 - val_loss: 0.0610 - val_accuracy: 0.9840\n",
      "Epoch 29/50\n",
      "546/546 [==============================] - 2s 3ms/step - loss: 0.0673 - accuracy: 0.9829 - val_loss: 0.0612 - val_accuracy: 0.9840\n",
      "Epoch 30/50\n",
      "546/546 [==============================] - 1s 2ms/step - loss: 0.0684 - accuracy: 0.9826 - val_loss: 0.0607 - val_accuracy: 0.9844\n",
      "Epoch 31/50\n",
      "546/546 [==============================] - 1s 3ms/step - loss: 0.0678 - accuracy: 0.9827 - val_loss: 0.0608 - val_accuracy: 0.9847\n",
      "Epoch 32/50\n",
      "546/546 [==============================] - 2s 3ms/step - loss: 0.0678 - accuracy: 0.9826 - val_loss: 0.0601 - val_accuracy: 0.9847\n",
      "Epoch 33/50\n",
      "546/546 [==============================] - 1s 2ms/step - loss: 0.0684 - accuracy: 0.9826 - val_loss: 0.0601 - val_accuracy: 0.9844\n",
      "Epoch 34/50\n",
      "546/546 [==============================] - 1s 2ms/step - loss: 0.0667 - accuracy: 0.9830 - val_loss: 0.0599 - val_accuracy: 0.9847\n",
      "Epoch 35/50\n",
      "546/546 [==============================] - 1s 2ms/step - loss: 0.0676 - accuracy: 0.9827 - val_loss: 0.0600 - val_accuracy: 0.9847\n",
      "Epoch 36/50\n",
      "546/546 [==============================] - 1s 2ms/step - loss: 0.0680 - accuracy: 0.9824 - val_loss: 0.0596 - val_accuracy: 0.9847\n",
      "Epoch 37/50\n",
      "546/546 [==============================] - 1s 2ms/step - loss: 0.0671 - accuracy: 0.9828 - val_loss: 0.0593 - val_accuracy: 0.9844\n",
      "Epoch 38/50\n",
      "546/546 [==============================] - 1s 2ms/step - loss: 0.0672 - accuracy: 0.9828 - val_loss: 0.0592 - val_accuracy: 0.9847\n",
      "Epoch 39/50\n",
      "546/546 [==============================] - 1s 2ms/step - loss: 0.0675 - accuracy: 0.9826 - val_loss: 0.0594 - val_accuracy: 0.9847\n",
      "Epoch 40/50\n",
      "546/546 [==============================] - 1s 2ms/step - loss: 0.0670 - accuracy: 0.9828 - val_loss: 0.0593 - val_accuracy: 0.9847\n",
      "Epoch 41/50\n",
      "546/546 [==============================] - 1s 2ms/step - loss: 0.0668 - accuracy: 0.9827 - val_loss: 0.0590 - val_accuracy: 0.9847\n",
      "Epoch 42/50\n",
      "546/546 [==============================] - 1s 2ms/step - loss: 0.0675 - accuracy: 0.9827 - val_loss: 0.0591 - val_accuracy: 0.9847\n",
      "Epoch 43/50\n",
      "546/546 [==============================] - 1s 2ms/step - loss: 0.0664 - accuracy: 0.9829 - val_loss: 0.0590 - val_accuracy: 0.9847\n",
      "Epoch 44/50\n",
      "546/546 [==============================] - 1s 2ms/step - loss: 0.0667 - accuracy: 0.9827 - val_loss: 0.0592 - val_accuracy: 0.9844\n",
      "Epoch 45/50\n",
      "546/546 [==============================] - 2s 3ms/step - loss: 0.0662 - accuracy: 0.9828 - val_loss: 0.0586 - val_accuracy: 0.9844\n",
      "Epoch 46/50\n",
      "546/546 [==============================] - 1s 2ms/step - loss: 0.0671 - accuracy: 0.9828 - val_loss: 0.0590 - val_accuracy: 0.9844\n",
      "Epoch 47/50\n",
      "546/546 [==============================] - 1s 2ms/step - loss: 0.0663 - accuracy: 0.9828 - val_loss: 0.0589 - val_accuracy: 0.9844\n",
      "Epoch 48/50\n",
      "546/546 [==============================] - 1s 2ms/step - loss: 0.0667 - accuracy: 0.9828 - val_loss: 0.0590 - val_accuracy: 0.9847\n",
      "Epoch 49/50\n",
      "546/546 [==============================] - 1s 2ms/step - loss: 0.0664 - accuracy: 0.9827 - val_loss: 0.0590 - val_accuracy: 0.9844\n",
      "Epoch 50/50\n",
      "546/546 [==============================] - 1s 2ms/step - loss: 0.0658 - accuracy: 0.9830 - val_loss: 0.0589 - val_accuracy: 0.9844\n"
     ]
    }
   ],
   "source": [
    "# The model will go through the entire training dataset *EPOCHS* times during training\n",
    "epochs = 50\n",
    "\n",
    "#  How many batches of the validation dataset are used for validation during each validation epoch\n",
    "val_subsplits = 5\n",
    "validation_steps = test_size//batch_size// val_subsplits\n",
    "\n",
    "\n",
    "# For each epoch, the model first train on the training data updating its weights,\n",
    "# then the model is evaluated on batches of validation data, without updating the weights\n",
    "# This alternating process allows the model to learn from the training data\n",
    "# and assess its generalization performance on the validation data\n",
    "model_history = model.fit(train_batches, epochs = epochs,\n",
    "                          steps_per_epoch = steps_per_epochs,\n",
    "                          validation_steps = validation_steps,\n",
    "                          validation_data = validation_batches)"
   ]
  },
  {
   "cell_type": "code",
   "execution_count": 14,
   "id": "69558627-b12a-4503-8f41-ce5710064e08",
   "metadata": {},
   "outputs": [],
   "source": [
    "def display_learning_curves(history):\n",
    "\n",
    "    acc      = history[\"accuracy\"]\n",
    "    val_acc  = history[\"val_accuracy\"]\n",
    "\n",
    "    loss     = history[\"loss\"]\n",
    "    val_loss = history[\"val_loss\"]\n",
    "\n",
    "    epochs_range = range(epochs)\n",
    "\n",
    "    fig = plt.figure(figsize=(10,4))\n",
    "\n",
    "    plt.subplot(1,2,1)\n",
    "    plt.plot(epochs_range, acc, label=\"train accuracy\")\n",
    "    plt.plot(epochs_range, val_acc, label=\"validation accuracy\")\n",
    "    plt.ylim(0.95,1)\n",
    "    plt.title(\"Accuracy\")\n",
    "    plt.xlabel(\"Epoch\")\n",
    "    plt.ylabel(\"Accuracy\")\n",
    "    plt.legend()\n",
    "\n",
    "    plt.subplot(1,2,2)\n",
    "    plt.plot(epochs_range, loss, label=\"train loss\")\n",
    "    plt.plot(epochs_range, val_loss, label=\"validation loss\")\n",
    "    plt.ylim(0,0.3)\n",
    "    plt.title(\"Loss\")\n",
    "    plt.xlabel(\"Epoch\")\n",
    "    plt.ylabel(\"Loss\")\n",
    "    plt.legend()\n",
    "\n",
    "    fig.tight_layout()\n",
    "    plt.show()"
   ]
  },
  {
   "cell_type": "code",
   "execution_count": 15,
   "id": "eefd9a85-548f-47d0-a672-052b70d8ea92",
   "metadata": {},
   "outputs": [
    {
     "data": {
      "image/png": "[encoded data removed]",
      "text/plain": [
       "<Figure size 1000x400 with 2 Axes>"
      ]
     },
     "metadata": {},
     "output_type": "display_data"
    }
   ],
   "source": [
    "# Display learning curves\n",
    "display_learning_curves(model_history.history)"
   ]
  },
  {
   "cell_type": "code",
   "execution_count": 16,
   "id": "fd8fab58-f46e-4705-8494-0dc5603aae8c",
   "metadata": {},
   "outputs": [],
   "source": [
    "test_size = test.cardinality().numpy()\n",
    "\n",
    "predictions = []\n",
    "ytrue = []\n",
    "\n",
    "for features, labels in test.take(test_size):\n",
    "    # I need to add tf.newaxis at the beginning because the model accepts an input shape of dimension #batches, features\n",
    "    pred = model.predict(features[tf.newaxis, ...], verbose = 0)\n",
    "    pred = np.round(pred)\n",
    "    predictions.append(int(pred[0][0]))\n",
    "    ytrue.append(labels.numpy())"
   ]
  },
  {
   "cell_type": "code",
   "execution_count": 17,
   "id": "66fc2141-9a2e-4710-aa01-16467fa483c5",
   "metadata": {},
   "outputs": [
    {
     "data": {
      "image/png": "[encoded data removed]",
      "text/plain": [
       "<Figure size 640x480 with 1 Axes>"
      ]
     },
     "metadata": {},
     "output_type": "display_data"
    }
   ],
   "source": [
    "FP_rate, TP_rate, threshold = roc_curve(ytrue, predictions)\n",
    "\n",
    "# plot\n",
    "plt.plot(FP_rate, TP_rate)\n",
    "plt.xlabel('FP_rate')\n",
    "plt.ylabel('TP_rate')\n",
    "plt.title('ROC curve')\n",
    "plt.show()"
   ]
  },
  {
   "cell_type": "code",
   "execution_count": 40,
   "id": "1f5969db-f524-435a-bbf8-5f95aa04fedc",
   "metadata": {},
   "outputs": [
    {
     "name": "stdout",
     "output_type": "stream",
     "text": [
      "Accuracy =  0.9826666666666667\n",
      "Precision (purity) =  0.9405405405405406\n",
      "Completeness (recall)=  0.9422382671480144\n"
     ]
    }
   ],
   "source": [
    "accuracy  = accuracy_score(ytrue, predictions)\n",
    "precision = precision_score(ytrue, predictions)\n",
    "recall    = recall_score(ytrue, predictions)\n",
    "\n",
    "print('Accuracy = ', accuracy)\n",
    "print('Precision (purity) = ', precision)\n",
    "print('Completeness (recall)= ', recall)"
   ]
  },
  {
   "cell_type": "code",
   "execution_count": 19,
   "id": "40438058-cf9c-4af9-89dd-75ebafb2ac2b",
   "metadata": {},
   "outputs": [],
   "source": [
    "# Confusion matrix\n",
    "ytrue_tf         = tf.convert_to_tensor(ytrue, dtype=tf.int32)\n",
    "predictions_tf   = tf.convert_to_tensor(predictions, dtype=tf.int32)\n",
    "confusion_matrix = tf.math.confusion_matrix(ytrue_tf, predictions_tf, num_classes=2)"
   ]
  },
  {
   "cell_type": "code",
   "execution_count": 20,
   "id": "3f228536-78df-4830-b341-54b3d472d4be",
   "metadata": {},
   "outputs": [
    {
     "data": {
      "text/html": [
       "<table>\n",
       "<thead>\n",
       "<tr><th>True  /  Pred  </th><th style=\"text-align: center;\"> Galaxy </th><th style=\"text-align: center;\"> Quasar </th></tr>\n",
       "</thead>\n",
       "<tbody>\n",
       "<tr><td>Galaxy         </td><td style=\"text-align: center;\">  6326  </td><td style=\"text-align: center;\">   66   </td></tr>\n",
       "<tr><td>Quasar         </td><td style=\"text-align: center;\">   64   </td><td style=\"text-align: center;\">  1044  </td></tr>\n",
       "</tbody>\n",
       "</table>"
      ],
      "text/plain": [
       "'<table>\\n<thead>\\n<tr><th>True  /  Pred  </th><th style=\"text-align: center;\"> Galaxy </th><th style=\"text-align: center;\"> Quasar </th></tr>\\n</thead>\\n<tbody>\\n<tr><td>Galaxy         </td><td style=\"text-align: center;\">  6326  </td><td style=\"text-align: center;\">   66   </td></tr>\\n<tr><td>Quasar         </td><td style=\"text-align: center;\">   64   </td><td style=\"text-align: center;\">  1044  </td></tr>\\n</tbody>\\n</table>'"
      ]
     },
     "execution_count": 20,
     "metadata": {},
     "output_type": "execute_result"
    }
   ],
   "source": [
    "classes = ['Galaxy', 'Quasar']\n",
    "a = confusion_matrix.numpy()\n",
    "a_ = [[str(cell) for cell in row] for row in a]\n",
    "horizontal = ['True  /  Pred'] + classes\n",
    "tabella = [[col] + row for col, row in zip(classes, a_)]\n",
    "tabulate(tabella, headers = horizontal, tablefmt='html', numalign='center')"
   ]
  },
  {
   "cell_type": "markdown",
   "id": "658921e8-a808-4a81-b427-b7737ae9323d",
   "metadata": {},
   "source": [
    "5. Now let's optimize the hyperparameters of your network. Explore different hyperparameters and see what fits the data best.  Do your best now to optimize the network architecture. Be creative!"
   ]
  },
  {
   "cell_type": "code",
   "execution_count": 21,
   "id": "72ed0554-d80a-45f6-a7be-b02ddaab7888",
   "metadata": {},
   "outputs": [],
   "source": [
    "import keras_tuner"
   ]
  },
  {
   "cell_type": "markdown",
   "id": "0c89a711-dafb-41ca-aab3-2950766bd7ee",
   "metadata": {},
   "source": [
    "The model I built has as hyperparameter the number of neurons in the hidden (dense) layer. <br>\n",
    "Another thing I can change is the learning rate with which the model is learning."
   ]
  },
  {
   "cell_type": "code",
   "execution_count": 22,
   "id": "669ee478-0f87-4e0d-a0d9-57a6b81b51dd",
   "metadata": {},
   "outputs": [],
   "source": [
    "def dense_layer(x, num_neurons):\n",
    "    x = layers.Dense(num_neurons, activation='relu')(x)\n",
    "    return x\n",
    "\n",
    "def model_opt(l:int, num_neurons:int, learning_rate):\n",
    "    inputs  = layers.Input(shape=(l,))\n",
    "    x       = dense_layer(inputs, num_neurons)\n",
    "    outputs = layers.Dense(1, activation='sigmoid')(x)\n",
    "    model   = tf.keras.Model(inputs, outputs, name='model_opt')\n",
    "    model.compile(optimizer=tf.keras.optimizers.Adam(learning_rate=0.001),\n",
    "              loss='binary_crossentropy',\n",
    "              metrics=['accuracy'])\n",
    "    \n",
    "    return model"
   ]
  },
  {
   "cell_type": "code",
   "execution_count": 30,
   "id": "ec1cd070-fbf5-4684-a18f-a00797a8aa7a",
   "metadata": {},
   "outputs": [
    {
     "name": "stdout",
     "output_type": "stream",
     "text": [
      "Reloading Tuner from ./untitled_project/tuner0.json\n",
      "Search space summary\n",
      "Default search space size: 2\n",
      "num_neurons (Int)\n",
      "{'default': None, 'conditions': [], 'min_value': 5, 'max_value': 100, 'step': 1, 'sampling': 'linear'}\n",
      "learning_rate (Float)\n",
      "{'default': 1e-05, 'conditions': [], 'min_value': 1e-05, 'max_value': 0.1, 'step': None, 'sampling': 'log'}\n"
     ]
    }
   ],
   "source": [
    "class hypermodel(keras_tuner.HyperModel):\n",
    "    \n",
    "    def __init__(self, l):\n",
    "        self.l = l\n",
    "    \n",
    "    def build(self, hp, new = True):\n",
    "        \n",
    "        if new:\n",
    "            \n",
    "            num_neurons       = hp.Int('num_neurons', min_value=5, max_value=100, step=1)\n",
    "            learning_rate     = hp.Float('learning_rate', min_value=1e-5, max_value=1e-1, sampling='log')\n",
    "    \n",
    "        else:\n",
    "            num_neurons       = hp.get('num_neurons')\n",
    "            learning_rate     = hp.get('learning_rate')\n",
    "\n",
    "        \n",
    "        model = model_opt(self.l, num_neurons = num_neurons, learning_rate = learning_rate)\n",
    "        \n",
    "        return model\n",
    "\n",
    "\n",
    "tuner = keras_tuner.BayesianOptimization( hypermodel(l = 4),\n",
    "                                              objective  = keras_tuner.Objective('val_accuracy', direction='max'),\n",
    "                                              max_trials = 20,\n",
    "                                              max_retries_per_trial = 1\n",
    "                                               )\n",
    "tuner.search_space_summary()"
   ]
  },
  {
   "cell_type": "code",
   "execution_count": 24,
   "id": "06d8ead9-b27e-476e-81a5-b65f61679a0b",
   "metadata": {},
   "outputs": [
    {
     "name": "stdout",
     "output_type": "stream",
     "text": [
      "Trial 20 Complete [00h 00m 55s]\n",
      "val_accuracy: 0.984714686870575\n",
      "\n",
      "Best val_accuracy So Far: 0.987432062625885\n",
      "Total elapsed time: 00h 18m 05s\n"
     ]
    }
   ],
   "source": [
    "# search for the optimal hyperparameters\n",
    "tuner.search(train_batches, epochs = epochs, steps_per_epoch = steps_per_epochs, validation_steps = validation_steps, validation_data = validation_batches)"
   ]
  },
  {
   "cell_type": "code",
   "execution_count": 25,
   "id": "5da88250-52cb-4576-81a0-6b6e86822994",
   "metadata": {},
   "outputs": [
    {
     "name": "stdout",
     "output_type": "stream",
     "text": [
      "Best Value for parameter num_neurons : 100\n",
      "Best Value for parameter learning_rate : 0.0038564279223000262\n",
      "[Int(name: 'num_neurons', min_value: 5, max_value: 100, step: 1, sampling: linear, default: 5), Float(name: 'learning_rate', min_value: '1e-05', max_value: '0.1', step: 'None', sampling: 'log', default: '1e-05')]\n"
     ]
    }
   ],
   "source": [
    "# Reload the best hyperparameters\n",
    "tuner.reload()\n",
    "best_hps = tuner.get_best_hyperparameters(num_trials=1)[0]\n",
    "hyperpar_names = ['num_neurons', 'learning_rate']\n",
    "for pp in hyperpar_names:\n",
    "    print('Best Value for parameter {} : {}'.format(pp,best_hps.get(pp)))\n",
    "print(best_hps.space)"
   ]
  },
  {
   "cell_type": "code",
   "execution_count": 31,
   "id": "0884feab-cab9-4c51-b81b-844cf3130307",
   "metadata": {},
   "outputs": [
    {
     "name": "stdout",
     "output_type": "stream",
     "text": [
      "Epoch 1/50\n",
      "546/546 [==============================] - 1s 2ms/step - loss: 0.1790 - accuracy: 0.9659 - val_loss: 0.0690 - val_accuracy: 0.9823\n",
      "Epoch 2/50\n",
      "546/546 [==============================] - 1s 2ms/step - loss: 0.0773 - accuracy: 0.9825 - val_loss: 0.0624 - val_accuracy: 0.9817\n",
      "Epoch 3/50\n",
      "546/546 [==============================] - 1s 2ms/step - loss: 0.0735 - accuracy: 0.9825 - val_loss: 0.0624 - val_accuracy: 0.9834\n",
      "Epoch 4/50\n",
      "546/546 [==============================] - 1s 2ms/step - loss: 0.0712 - accuracy: 0.9828 - val_loss: 0.0608 - val_accuracy: 0.9840\n",
      "Epoch 5/50\n",
      "546/546 [==============================] - 1s 2ms/step - loss: 0.0697 - accuracy: 0.9830 - val_loss: 0.0599 - val_accuracy: 0.9840\n",
      "Epoch 6/50\n",
      "546/546 [==============================] - 1s 2ms/step - loss: 0.0679 - accuracy: 0.9829 - val_loss: 0.0577 - val_accuracy: 0.9847\n",
      "Epoch 7/50\n",
      "546/546 [==============================] - 1s 2ms/step - loss: 0.0672 - accuracy: 0.9831 - val_loss: 0.0594 - val_accuracy: 0.9840\n",
      "Epoch 8/50\n",
      "546/546 [==============================] - 1s 2ms/step - loss: 0.0656 - accuracy: 0.9836 - val_loss: 0.0569 - val_accuracy: 0.9847\n",
      "Epoch 9/50\n",
      "546/546 [==============================] - 1s 2ms/step - loss: 0.0661 - accuracy: 0.9834 - val_loss: 0.0562 - val_accuracy: 0.9854\n",
      "Epoch 10/50\n",
      "546/546 [==============================] - 1s 2ms/step - loss: 0.0653 - accuracy: 0.9836 - val_loss: 0.0563 - val_accuracy: 0.9840\n",
      "Epoch 11/50\n",
      "546/546 [==============================] - 1s 2ms/step - loss: 0.0645 - accuracy: 0.9835 - val_loss: 0.0564 - val_accuracy: 0.9854\n",
      "Epoch 12/50\n",
      "546/546 [==============================] - 1s 2ms/step - loss: 0.0644 - accuracy: 0.9837 - val_loss: 0.0563 - val_accuracy: 0.9854\n",
      "Epoch 13/50\n",
      "546/546 [==============================] - 1s 2ms/step - loss: 0.0639 - accuracy: 0.9837 - val_loss: 0.0573 - val_accuracy: 0.9837\n",
      "Epoch 14/50\n",
      "546/546 [==============================] - 2s 4ms/step - loss: 0.0633 - accuracy: 0.9838 - val_loss: 0.0547 - val_accuracy: 0.9861\n",
      "Epoch 15/50\n",
      "546/546 [==============================] - 2s 3ms/step - loss: 0.0634 - accuracy: 0.9837 - val_loss: 0.0545 - val_accuracy: 0.9861\n",
      "Epoch 16/50\n",
      "546/546 [==============================] - 1s 2ms/step - loss: 0.0628 - accuracy: 0.9841 - val_loss: 0.0550 - val_accuracy: 0.9857\n",
      "Epoch 17/50\n",
      "546/546 [==============================] - 1s 2ms/step - loss: 0.0627 - accuracy: 0.9837 - val_loss: 0.0544 - val_accuracy: 0.9864\n",
      "Epoch 18/50\n",
      "546/546 [==============================] - 1s 2ms/step - loss: 0.0624 - accuracy: 0.9841 - val_loss: 0.0546 - val_accuracy: 0.9857\n",
      "Epoch 19/50\n",
      "546/546 [==============================] - 1s 2ms/step - loss: 0.0613 - accuracy: 0.9843 - val_loss: 0.0537 - val_accuracy: 0.9861\n",
      "Epoch 20/50\n",
      "546/546 [==============================] - 1s 2ms/step - loss: 0.0614 - accuracy: 0.9841 - val_loss: 0.0534 - val_accuracy: 0.9864\n",
      "Epoch 21/50\n",
      "546/546 [==============================] - 1s 2ms/step - loss: 0.0611 - accuracy: 0.9843 - val_loss: 0.0537 - val_accuracy: 0.9861\n",
      "Epoch 22/50\n",
      "546/546 [==============================] - 1s 2ms/step - loss: 0.0605 - accuracy: 0.9843 - val_loss: 0.0535 - val_accuracy: 0.9868\n",
      "Epoch 23/50\n",
      "546/546 [==============================] - 1s 2ms/step - loss: 0.0606 - accuracy: 0.9841 - val_loss: 0.0546 - val_accuracy: 0.9861\n",
      "Epoch 24/50\n",
      "546/546 [==============================] - 1s 2ms/step - loss: 0.0595 - accuracy: 0.9844 - val_loss: 0.0536 - val_accuracy: 0.9861\n",
      "Epoch 25/50\n",
      "546/546 [==============================] - 1s 2ms/step - loss: 0.0603 - accuracy: 0.9843 - val_loss: 0.0535 - val_accuracy: 0.9857\n",
      "Epoch 26/50\n",
      "546/546 [==============================] - 1s 2ms/step - loss: 0.0600 - accuracy: 0.9842 - val_loss: 0.0538 - val_accuracy: 0.9861\n",
      "Epoch 27/50\n",
      "546/546 [==============================] - 1s 2ms/step - loss: 0.0597 - accuracy: 0.9843 - val_loss: 0.0532 - val_accuracy: 0.9864\n",
      "Epoch 28/50\n",
      "546/546 [==============================] - 1s 2ms/step - loss: 0.0593 - accuracy: 0.9844 - val_loss: 0.0531 - val_accuracy: 0.9868\n",
      "Epoch 29/50\n",
      "546/546 [==============================] - 1s 2ms/step - loss: 0.0583 - accuracy: 0.9844 - val_loss: 0.0534 - val_accuracy: 0.9861\n",
      "Epoch 30/50\n",
      "546/546 [==============================] - 1s 2ms/step - loss: 0.0592 - accuracy: 0.9846 - val_loss: 0.0526 - val_accuracy: 0.9868\n",
      "Epoch 31/50\n",
      "546/546 [==============================] - 1s 2ms/step - loss: 0.0575 - accuracy: 0.9847 - val_loss: 0.0522 - val_accuracy: 0.9864\n",
      "Epoch 32/50\n",
      "546/546 [==============================] - 1s 2ms/step - loss: 0.0582 - accuracy: 0.9847 - val_loss: 0.0531 - val_accuracy: 0.9868\n",
      "Epoch 33/50\n",
      "546/546 [==============================] - 1s 2ms/step - loss: 0.0575 - accuracy: 0.9851 - val_loss: 0.0518 - val_accuracy: 0.9864\n",
      "Epoch 34/50\n",
      "546/546 [==============================] - 1s 2ms/step - loss: 0.0582 - accuracy: 0.9842 - val_loss: 0.0526 - val_accuracy: 0.9864\n",
      "Epoch 35/50\n",
      "546/546 [==============================] - 1s 2ms/step - loss: 0.0566 - accuracy: 0.9849 - val_loss: 0.0526 - val_accuracy: 0.9871\n",
      "Epoch 36/50\n",
      "546/546 [==============================] - 1s 2ms/step - loss: 0.0575 - accuracy: 0.9848 - val_loss: 0.0522 - val_accuracy: 0.9864\n",
      "Epoch 37/50\n",
      "546/546 [==============================] - 1s 2ms/step - loss: 0.0561 - accuracy: 0.9850 - val_loss: 0.0542 - val_accuracy: 0.9851\n",
      "Epoch 38/50\n",
      "546/546 [==============================] - 1s 2ms/step - loss: 0.0567 - accuracy: 0.9847 - val_loss: 0.0525 - val_accuracy: 0.9861\n",
      "Epoch 39/50\n",
      "546/546 [==============================] - 1s 2ms/step - loss: 0.0563 - accuracy: 0.9851 - val_loss: 0.0518 - val_accuracy: 0.9868\n",
      "Epoch 40/50\n",
      "546/546 [==============================] - 1s 2ms/step - loss: 0.0561 - accuracy: 0.9848 - val_loss: 0.0521 - val_accuracy: 0.9864\n",
      "Epoch 41/50\n",
      "546/546 [==============================] - 1s 2ms/step - loss: 0.0561 - accuracy: 0.9851 - val_loss: 0.0519 - val_accuracy: 0.9864\n",
      "Epoch 42/50\n",
      "546/546 [==============================] - 1s 2ms/step - loss: 0.0555 - accuracy: 0.9851 - val_loss: 0.0535 - val_accuracy: 0.9864\n",
      "Epoch 43/50\n",
      "546/546 [==============================] - 1s 2ms/step - loss: 0.0554 - accuracy: 0.9854 - val_loss: 0.0513 - val_accuracy: 0.9868\n",
      "Epoch 44/50\n",
      "546/546 [==============================] - 1s 2ms/step - loss: 0.0559 - accuracy: 0.9849 - val_loss: 0.0513 - val_accuracy: 0.9868\n",
      "Epoch 45/50\n",
      "546/546 [==============================] - 1s 3ms/step - loss: 0.0558 - accuracy: 0.9851 - val_loss: 0.0540 - val_accuracy: 0.9861\n",
      "Epoch 46/50\n",
      "546/546 [==============================] - 1s 2ms/step - loss: 0.0549 - accuracy: 0.9850 - val_loss: 0.0514 - val_accuracy: 0.9868\n",
      "Epoch 47/50\n",
      "546/546 [==============================] - 1s 2ms/step - loss: 0.0544 - accuracy: 0.9851 - val_loss: 0.0521 - val_accuracy: 0.9868\n",
      "Epoch 48/50\n",
      "546/546 [==============================] - 1s 2ms/step - loss: 0.0539 - accuracy: 0.9855 - val_loss: 0.0509 - val_accuracy: 0.9871\n",
      "Epoch 49/50\n",
      "546/546 [==============================] - 1s 2ms/step - loss: 0.0547 - accuracy: 0.9853 - val_loss: 0.0522 - val_accuracy: 0.9864\n",
      "Epoch 50/50\n",
      "546/546 [==============================] - 1s 2ms/step - loss: 0.0552 - accuracy: 0.9847 - val_loss: 0.0517 - val_accuracy: 0.9861\n"
     ]
    }
   ],
   "source": [
    "model_opt         = tuner.hypermodel.build(best_hps, new=False)    \n",
    "model_history_opt = model_opt.fit(train_batches, epochs = epochs,\n",
    "                          steps_per_epoch = steps_per_epochs,\n",
    "                          validation_steps = validation_steps,\n",
    "                          validation_data = validation_batches)"
   ]
  },
  {
   "cell_type": "code",
   "execution_count": 32,
   "id": "c1c5fdc4-8404-4d9a-99b8-6c4458a0e7a8",
   "metadata": {},
   "outputs": [],
   "source": [
    "def display_learning_curves(history):\n",
    "\n",
    "    acc      = history[\"accuracy\"]\n",
    "    val_acc  = history[\"val_accuracy\"]\n",
    "\n",
    "    loss     = history[\"loss\"]\n",
    "    val_loss = history[\"val_loss\"]\n",
    "\n",
    "    epochs_range = range(epochs)\n",
    "\n",
    "    fig = plt.figure(figsize=(10,4))\n",
    "\n",
    "    plt.subplot(1,2,1)\n",
    "    plt.plot(epochs_range, acc, label=\"train accuracy\")\n",
    "    plt.plot(epochs_range, val_acc, label=\"validation accuracy\")\n",
    "    plt.ylim(0.95,1)\n",
    "    plt.title(\"Accuracy\")\n",
    "    plt.xlabel(\"Epoch\")\n",
    "    plt.ylabel(\"Accuracy\")\n",
    "    plt.legend()\n",
    "\n",
    "    plt.subplot(1,2,2)\n",
    "    plt.plot(epochs_range, loss, label=\"train loss\")\n",
    "    plt.plot(epochs_range, val_loss, label=\"validation loss\")\n",
    "    plt.ylim(0,0.3)\n",
    "    plt.title(\"Loss\")\n",
    "    plt.xlabel(\"Epoch\")\n",
    "    plt.ylabel(\"Loss\")\n",
    "    plt.legend()\n",
    "\n",
    "    fig.tight_layout()\n",
    "    plt.show()"
   ]
  },
  {
   "cell_type": "code",
   "execution_count": 33,
   "id": "7ec24aa5-dfef-4995-8287-2626a5471cd3",
   "metadata": {},
   "outputs": [
    {
     "data": {
      "image/png": "[encoded data removed]",
      "text/plain": [
       "<Figure size 1000x400 with 2 Axes>"
      ]
     },
     "metadata": {},
     "output_type": "display_data"
    }
   ],
   "source": [
    "# Display learning curves\n",
    "display_learning_curves(model_history.history)"
   ]
  },
  {
   "cell_type": "code",
   "execution_count": 34,
   "id": "fdae808a-058a-484f-a318-1a8e945b2240",
   "metadata": {},
   "outputs": [],
   "source": [
    "test_size = test.cardinality().numpy()\n",
    "\n",
    "predictions_opt = []\n",
    "ytrue_opt = []\n",
    "\n",
    "for features, labels in test.take(test_size):\n",
    "    # I need to add tf.newaxis at the beginning because the model accepts an input shape of dimension #batches, features\n",
    "    pred = model.predict(features[tf.newaxis, ...], verbose = 0)\n",
    "    pred = np.round(pred)\n",
    "    predictions_opt.append(int(pred[0][0]))\n",
    "    ytrue_opt.append(labels.numpy())"
   ]
  },
  {
   "cell_type": "code",
   "execution_count": 39,
   "id": "2d6276fe-baf6-4ac9-8518-55fc25093fed",
   "metadata": {},
   "outputs": [
    {
     "data": {
      "image/png": "[encoded data removed]",
      "text/plain": [
       "<Figure size 640x480 with 1 Axes>"
      ]
     },
     "metadata": {},
     "output_type": "display_data"
    }
   ],
   "source": [
    "FP_rate_opt, TP_rate_opt, threshold_opt = roc_curve(ytrue_opt, predictions_opt)\n",
    "\n",
    "# plot\n",
    "plt.plot(FP_rate_opt, TP_rate_opt)\n",
    "plt.xlabel('FP_rate')\n",
    "plt.ylabel('TP_rate')\n",
    "plt.title('ROC curve')\n",
    "plt.show()"
   ]
  },
  {
   "cell_type": "code",
   "execution_count": 43,
   "id": "9a18d5ff-c1dc-46bc-bd14-86a384418621",
   "metadata": {},
   "outputs": [
    {
     "name": "stdout",
     "output_type": "stream",
     "text": [
      "Accuracy =  0.9826666666666667\n",
      "Precision (purity) =  0.9405405405405406\n",
      "Completeness (recall)=  0.9422382671480144\n"
     ]
    }
   ],
   "source": [
    "accuracy_opt  = accuracy_score(ytrue_opt, predictions_opt)\n",
    "precision_opt = precision_score(ytrue_opt, predictions_opt)\n",
    "recall_opt    = recall_score(ytrue_opt, predictions_opt)\n",
    "\n",
    "print('Accuracy = ', accuracy_opt)\n",
    "print('Precision (purity) = ', precision_opt)\n",
    "print('Completeness (recall)= ', recall_opt)"
   ]
  },
  {
   "cell_type": "code",
   "execution_count": 36,
   "id": "e6f7c615-b311-46d6-9e57-7e0febac0379",
   "metadata": {},
   "outputs": [],
   "source": [
    "# Confusion matrix\n",
    "ytrue_tf_opt         = tf.convert_to_tensor(ytrue_opt, dtype=tf.int32)\n",
    "predictions_tf_opt   = tf.convert_to_tensor(predictions_opt, dtype=tf.int32)\n",
    "confusion_matrix_opt = tf.math.confusion_matrix(ytrue_tf_opt, predictions_tf_opt, num_classes=2)"
   ]
  },
  {
   "cell_type": "code",
   "execution_count": 37,
   "id": "d0c0e2a5-667c-41c3-a216-76ac2cfb7ba8",
   "metadata": {},
   "outputs": [
    {
     "data": {
      "text/html": [
       "<table>\n",
       "<thead>\n",
       "<tr><th>True  /  Pred  </th><th style=\"text-align: center;\"> Galaxy </th><th style=\"text-align: center;\"> Quasar </th></tr>\n",
       "</thead>\n",
       "<tbody>\n",
       "<tr><td>Galaxy         </td><td style=\"text-align: center;\">  6326  </td><td style=\"text-align: center;\">   66   </td></tr>\n",
       "<tr><td>Quasar         </td><td style=\"text-align: center;\">   64   </td><td style=\"text-align: center;\">  1044  </td></tr>\n",
       "</tbody>\n",
       "</table>"
      ],
      "text/plain": [
       "'<table>\\n<thead>\\n<tr><th>True  /  Pred  </th><th style=\"text-align: center;\"> Galaxy </th><th style=\"text-align: center;\"> Quasar </th></tr>\\n</thead>\\n<tbody>\\n<tr><td>Galaxy         </td><td style=\"text-align: center;\">  6326  </td><td style=\"text-align: center;\">   66   </td></tr>\\n<tr><td>Quasar         </td><td style=\"text-align: center;\">   64   </td><td style=\"text-align: center;\">  1044  </td></tr>\\n</tbody>\\n</table>'"
      ]
     },
     "execution_count": 37,
     "metadata": {},
     "output_type": "execute_result"
    }
   ],
   "source": [
    "classes = ['Galaxy', 'Quasar']\n",
    "a = confusion_matrix_opt.numpy()\n",
    "a_ = [[str(cell) for cell in row] for row in a]\n",
    "horizontal = ['True  /  Pred'] + classes\n",
    "tabella_opt = [[col] + row for col, row in zip(classes, a_)]\n",
    "tabulate(tabella_opt, headers = horizontal, tablefmt='html', numalign='center')"
   ]
  },
  {
   "cell_type": "markdown",
   "id": "6fe9dc38-f289-43d6-b972-422ae2594a32",
   "metadata": {},
   "source": [
    "Comparison between simple model and the optimized one."
   ]
  },
  {
   "cell_type": "code",
   "execution_count": 53,
   "id": "61a49c5b",
   "metadata": {},
   "outputs": [
    {
     "data": {
      "text/html": [
       "<table>\n",
       "<thead>\n",
       "<tr><th>            </th><th style=\"text-align: right;\">  accuracy</th><th style=\"text-align: right;\">  precision</th><th style=\"text-align: right;\">  completeness</th></tr>\n",
       "</thead>\n",
       "<tbody>\n",
       "<tr><td>simple model</td><td style=\"text-align: right;\">  0.982667</td><td style=\"text-align: right;\">   0.940541</td><td style=\"text-align: right;\">      0.942238</td></tr>\n",
       "<tr><td>optimized   </td><td style=\"text-align: right;\">  0.982667</td><td style=\"text-align: right;\">   0.940541</td><td style=\"text-align: right;\">      0.942238</td></tr>\n",
       "</tbody>\n",
       "</table>"
      ],
      "text/plain": [
       "'<table>\\n<thead>\\n<tr><th>            </th><th style=\"text-align: right;\">  accuracy</th><th style=\"text-align: right;\">  precision</th><th style=\"text-align: right;\">  completeness</th></tr>\\n</thead>\\n<tbody>\\n<tr><td>simple model</td><td style=\"text-align: right;\">  0.982667</td><td style=\"text-align: right;\">   0.940541</td><td style=\"text-align: right;\">      0.942238</td></tr>\\n<tr><td>optimized   </td><td style=\"text-align: right;\">  0.982667</td><td style=\"text-align: right;\">   0.940541</td><td style=\"text-align: right;\">      0.942238</td></tr>\\n</tbody>\\n</table>'"
      ]
     },
     "execution_count": 53,
     "metadata": {},
     "output_type": "execute_result"
    }
   ],
   "source": [
    "metrics_  = np.array([[accuracy, precision, recall],[accuracy_opt, precision_opt, recall_opt]])\n",
    "col_names = ['accuracy', 'precision', 'completeness']\n",
    "row_names = ['simple model', 'optimized']\n",
    "tabella_  = [[col] + list(row) for col, row in zip(row_names, metrics_)]\n",
    "headers   = [''] + col_names\n",
    "tabulate(tabella_, headers=headers, tablefmt='html')"
   ]
  },
  {
   "cell_type": "code",
   "execution_count": null,
   "id": "defa5dd9-8459-4103-87fe-7204e5e60767",
   "metadata": {},
   "outputs": [],
   "source": []
  }
 ],
 "metadata": {
  "kernelspec": {
   "display_name": "Python 3 (ipykernel)",
   "language": "python",
   "name": "python3"
  },
  "language_info": {
   "codemirror_mode": {
    "name": "ipython",
    "version": 3
   },
   "file_extension": ".py",
   "mimetype": "text/x-python",
   "name": "python",
   "nbconvert_exporter": "python",
   "pygments_lexer": "ipython3",
   "version": "3.10.12"
  }
 },
 "nbformat": 4,
 "nbformat_minor": 5
}
